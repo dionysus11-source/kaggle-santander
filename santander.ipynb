{
 "cells": [
  {
   "cell_type": "code",
   "execution_count": null,
   "metadata": {},
   "outputs": [],
   "source": [
    "import pandas as pd\n",
    "import numpy as np\n",
    "trn = pd.read_csv('train_ver2.csv')"
   ]
  },
  {
   "cell_type": "code",
   "execution_count": null,
   "metadata": {},
   "outputs": [],
   "source": [
    "trn.shape"
   ]
  },
  {
   "cell_type": "code",
   "execution_count": null,
   "metadata": {},
   "outputs": [],
   "source": [
    "for col in trn.columns:\n",
    "    print(f'{trn[col].head()}')"
   ]
  },
  {
   "cell_type": "code",
   "execution_count": null,
   "metadata": {},
   "outputs": [],
   "source": [
    "trn.info()"
   ]
  },
  {
   "cell_type": "code",
   "execution_count": null,
   "metadata": {},
   "outputs": [],
   "source": [
    "num_cols = [col for col in trn.columns if trn[col].dtype in ['int64', 'float64']]\n",
    "trn[num_cols].describe()"
   ]
  },
  {
   "cell_type": "code",
   "execution_count": null,
   "metadata": {},
   "outputs": [],
   "source": [
    "cat_cols = [col for col in trn.columns if trn[col].dtype == 'object']\n",
    "trn[cat_cols].describe()"
   ]
  },
  {
   "cell_type": "code",
   "execution_count": null,
   "metadata": {},
   "outputs": [],
   "source": [
    "for col in cat_cols:\n",
    "    uniq = np.unique(trn[col].astype(str))\n",
    "    print('-'*50)\n",
    "    print(f'# col {col}, n_uniq {len(uniq)}, uniq {uniq}')"
   ]
  },
  {
   "cell_type": "code",
   "execution_count": null,
   "metadata": {},
   "outputs": [],
   "source": [
    "for col in num_cols:\n",
    "    uniq = np.unique(trn[col].astype(str))\n",
    "    print('-'*50)\n",
    "    print(f'# col {col}, n_uniq {len(uniq)}, uniq {uniq}')"
   ]
  },
  {
   "cell_type": "code",
   "execution_count": 3,
   "metadata": {},
   "outputs": [],
   "source": [
    "import matplotlib\n",
    "import matplotlib.pyplot as plt\n",
    "%matplotlib inline\n",
    "import seaborn as sns"
   ]
  },
  {
   "cell_type": "code",
   "execution_count": null,
   "metadata": {},
   "outputs": [],
   "source": [
    "import matplotlib as mpl\n",
    "mpl.rcParams['figure.figsize'] = (12.0, 6.0)\n",
    "mpl.rcParams['text.color'] = 'white'\n",
    "mpl.rcParams['axes.labelcolor'] = 'white'\n",
    "mpl.rcParams['xtick.color'] = 'white'\n",
    "mpl.rcParams['ytick.color'] = 'white' \n",
    "skip_cols = ['ncodpers', 'renta']\n",
    "for col in trn.columns:\n",
    "    if col in skip_cols:\n",
    "        continue\n",
    "    print('-'*50)\n",
    "    print('col :', col)\n",
    "    f, ax = plt.subplots(figsize=(20, 15))\n",
    "    sns.countplot(x=col, data=trn, alpha=0.5)\n",
    "    plt.show()"
   ]
  },
  {
   "cell_type": "code",
   "execution_count": null,
   "metadata": {},
   "outputs": [],
   "source": [
    "sns.countplot(x=trn['cod_prov'], data=trn, alpha=0.5, order=trn['cod_prov'].value_counts().index)\n",
    "plt.show()"
   ]
  },
  {
   "cell_type": "code",
   "execution_count": null,
   "metadata": {},
   "outputs": [],
   "source": []
  }
 ],
 "metadata": {
  "interpreter": {
   "hash": "b106cb3330077b26e7f0e63f62dffb5e3f4838599d05d1b54dfa0eed7a2b1d0f"
  },
  "kernelspec": {
   "display_name": "Python 3.9.7 ('base')",
   "language": "python",
   "name": "python3"
  },
  "language_info": {
   "codemirror_mode": {
    "name": "ipython",
    "version": 3
   },
   "file_extension": ".py",
   "mimetype": "text/x-python",
   "name": "python",
   "nbconvert_exporter": "python",
   "pygments_lexer": "ipython3",
   "version": "3.9.7"
  },
  "orig_nbformat": 4
 },
 "nbformat": 4,
 "nbformat_minor": 2
}
